{
 "cells": [
  {
   "cell_type": "code",
   "execution_count": 1,
   "metadata": {},
   "outputs": [
    {
     "name": "stdout",
     "output_type": "stream",
     "text": [
      "[ 6.  7.  8.]\n",
      "45\n"
     ]
    }
   ],
   "source": [
    "\"\"\" Example to demonstrate the use of feed_dict\n",
    "Author: Chip Huyen\n",
    "Prepared for the class CS 20SI: \"TensorFlow for Deep Learning Research\"\n",
    "cs20si.stanford.edu\n",
    "\"\"\"\n",
    "import os\n",
    "os.environ['TF_CPP_MIN_LOG_LEVEL']='2'\n",
    "\n",
    "import tensorflow as tf\n",
    "\n",
    "# Example 1: feed_dict with placeholder\n",
    "# create a placeholder of type float 32-bit, value is a vector of 3 elements\n",
    "a = tf.placeholder(tf.float32, shape=[3])\n",
    "\n",
    "# create a constant of type float 32-bit, value is a vector of 3 elements\n",
    "b = tf.constant([5, 5, 5], tf.float32)\n",
    "\n",
    "# use the placeholder as you would a constant\n",
    "c = a + b  # short for tf.add(a, b)\n",
    "\n",
    "with tf.Session() as sess:\n",
    "\t# print(sess.run(c)) # InvalidArgumentError because a doesn’t have any value\n",
    "\n",
    "\t# feed [1, 2, 3] to placeholder a via the dict {a: [1, 2, 3]}\n",
    "\t# fetch value of c\n",
    "\tprint(sess.run(c, {a: [1, 2, 3]})) # >> [6. 7. 8.]\n",
    "\n",
    "\n",
    "# Example 2: feed_dict with variables\n",
    "a = tf.add(2, 5)\n",
    "b = tf.multiply(a, 3)\n",
    "\n",
    "with tf.Session() as sess:\n",
    "\t# define a dictionary that says to replace the value of 'a' with 15\n",
    "\treplace_dict = {a: 15}\n",
    "\n",
    "\t# Run the session, passing in 'replace_dict' as the value to 'feed_dict'\n",
    "\tprint(sess.run(b, feed_dict=replace_dict)) # >> 45"
   ]
  }
 ],
 "metadata": {
  "kernelspec": {
   "display_name": "Python [default]",
   "language": "python",
   "name": "python3"
  },
  "language_info": {
   "codemirror_mode": {
    "name": "ipython",
    "version": 3
   },
   "file_extension": ".py",
   "mimetype": "text/x-python",
   "name": "python",
   "nbconvert_exporter": "python",
   "pygments_lexer": "ipython3",
   "version": "3.5.3"
  },
  "toc": {
   "nav_menu": {},
   "number_sections": true,
   "sideBar": true,
   "skip_h1_title": false,
   "toc_cell": false,
   "toc_position": {},
   "toc_section_display": "block",
   "toc_window_display": false
  }
 },
 "nbformat": 4,
 "nbformat_minor": 2
}
