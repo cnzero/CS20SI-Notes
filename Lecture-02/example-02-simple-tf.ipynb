{
 "cells": [
  {
   "cell_type": "code",
   "execution_count": 1,
   "metadata": {},
   "outputs": [
    {
     "name": "stdout",
     "output_type": "stream",
     "text": [
      "5\n",
      "[[0 2]\n",
      " [4 6]]\n"
     ]
    }
   ],
   "source": [
    "import os\n",
    "os.environ['TF_CPP_MIN_LOG_LEVEL']='2'\n",
    "\n",
    "import numpy as np\n",
    "import tensorflow as tf\n",
    "\n",
    "\n",
    "a = tf.constant(2)\n",
    "b = tf.constant(3)\n",
    "x = tf.add(a, b)\n",
    "with tf.Session() as sess:\n",
    "\twriter = tf.summary.FileWriter('tmp/02', sess.graph) \n",
    "\tprint(sess.run(x))\n",
    "writer.close() # close the writer when you’re done using it\n",
    "\n",
    "\n",
    "a = tf.constant([2, 2], name='a')\n",
    "b = tf.constant([[0, 1], [2, 3]], name='b')\n",
    "x = tf.multiply(a, b, name='dot_product')\n",
    "with tf.Session() as sess:\n",
    "\tprint(sess.run(x))\n",
    "# >> [[0 2]\n",
    "#\t [4 6]]"
   ]
  },
  {
   "cell_type": "code",
   "execution_count": 7,
   "metadata": {},
   "outputs": [
    {
     "name": "stdout",
     "output_type": "stream",
     "text": [
      "[[0 0 0]\n",
      " [0 0 0]]\n",
      "[[0 0 0]\n",
      " [0 0 0]]\n"
     ]
    }
   ],
   "source": [
    "# tf.zeros(shape, dtype=tf.float32, name=None)\n",
    "#creates a tensor of shape and all elements will be zeros (when ran in session)\n",
    "\n",
    "x = tf.zeros([2, 3], tf.int32) \n",
    "y = tf.zeros_like(x, optimize=True)\n",
    "print(tf.Session().run(y))\n",
    "# print(tf.get_default_graph().as_graph_def())\n",
    "with tf.Session() as sess:\n",
    "    y = sess.run(y)\n",
    "    print(y)"
   ]
  },
  {
   "cell_type": "code",
   "execution_count": 9,
   "metadata": {},
   "outputs": [
    {
     "name": "stdout",
     "output_type": "stream",
     "text": [
      "[ 10.          10.4285717   10.85714245  11.28571415  11.71428585\n",
      "  12.1428566   12.5714283   13.        ]\n",
      "[0 1 2 3 4]\n",
      "0\n",
      "1\n",
      "2\n",
      "3\n",
      "4\n"
     ]
    }
   ],
   "source": [
    "with tf.Session() as sess:\n",
    "\tprint(sess.run(tf.linspace(10.0, 13.0, 8)))\n",
    "\tprint(sess.run(tf.range(5)))\n",
    "\tfor i in np.arange(5):\n",
    "\t\tprint(i)"
   ]
  },
  {
   "cell_type": "code",
   "execution_count": 10,
   "metadata": {},
   "outputs": [
    {
     "name": "stdout",
     "output_type": "stream",
     "text": [
      "[[1 0 1 1 1]]\n",
      "[[1 1 1 1 1]]\n",
      "[[1 1 0 1 1]]\n",
      "[[1 1 1 1 0]]\n",
      "[[1 1 1 1 1]]\n",
      "[[1 1 2 1 1]]\n",
      "[[1 0 2 0 1]]\n",
      "[[1 0 1 1 1]]\n",
      "[[1 1 1 0 1]]\n",
      "[[1 1 1 1 2]]\n"
     ]
    }
   ],
   "source": [
    "samples = tf.multinomial(tf.constant([[1., 3., 1]]), 5)\n",
    "\n",
    "with tf.Session() as sess:\n",
    "\tfor _ in range(10):\n",
    "\t\tprint(sess.run(samples))"
   ]
  },
  {
   "cell_type": "code",
   "execution_count": 11,
   "metadata": {},
   "outputs": [
    {
     "name": "stdout",
     "output_type": "stream",
     "text": [
      "[0, 1]\n"
     ]
    }
   ],
   "source": [
    "t_0 = 19 \n",
    "x = tf.zeros_like(t_0) # ==> 0\n",
    "y = tf.ones_like(t_0) # ==> 1\n",
    "\n",
    "with tf.Session() as sess:\n",
    "\tprint(sess.run([x, y]))"
   ]
  },
  {
   "cell_type": "code",
   "execution_count": 13,
   "metadata": {},
   "outputs": [
    {
     "name": "stdout",
     "output_type": "stream",
     "text": [
      "error\n",
      "[array([[False, False, False],\n",
      "       [False, False, False],\n",
      "       [False, False, False]], dtype=bool), array([[ True,  True,  True],\n",
      "       [ True,  True,  True],\n",
      "       [ True,  True,  True]], dtype=bool)]\n"
     ]
    }
   ],
   "source": [
    "t_1 = ['apple', 'peach', 'banana']\n",
    "x = tf.zeros_like(t_1) # ==> ['' '' '']\n",
    "try:\n",
    "    y = tf.ones_like(t_1) # ==> TypeError: Expected string, got 1 of type 'int' instead.\n",
    "except:\n",
    "    print('error')\n",
    "\n",
    "t_2 = [[True, False, False],\n",
    "       [False, False, True],\n",
    "       [False, True, False]] \n",
    "x = tf.zeros_like(t_2) # ==> 2x2 tensor, all elements are False\n",
    "y = tf.ones_like(t_2) # ==> 2x2 tensor, all elements are True\n",
    "with tf.Session() as sess:\n",
    "\tprint(sess.run([x, y]))"
   ]
  },
  {
   "cell_type": "code",
   "execution_count": 17,
   "metadata": {},
   "outputs": [
    {
     "name": "stdout",
     "output_type": "stream",
     "text": [
      "[768.0, 32.0]\n"
     ]
    }
   ],
   "source": [
    "with tf.variable_scope('meh') as scope:\n",
    "\ta = tf.get_variable('aa', [10])\n",
    "\tb = tf.get_variable('bb', [100])\n",
    "\n",
    "writer = tf.summary.FileWriter('tmp/test', tf.get_default_graph())\n",
    "\n",
    "\n",
    "x = tf.Variable(2.0)\n",
    "y = 2.0 * (x ** 3)\n",
    "z = 3.0 + y ** 2\n",
    "grad_z = tf.gradients(z, [x, y])\n",
    "with tf.Session() as sess:\n",
    "\tsess.run(x.initializer)\n",
    "\tprint(sess.run(grad_z))"
   ]
  }
 ],
 "metadata": {
  "kernelspec": {
   "display_name": "Python [default]",
   "language": "python",
   "name": "python3"
  },
  "language_info": {
   "codemirror_mode": {
    "name": "ipython",
    "version": 3
   },
   "file_extension": ".py",
   "mimetype": "text/x-python",
   "name": "python",
   "nbconvert_exporter": "python",
   "pygments_lexer": "ipython3",
   "version": "3.5.3"
  },
  "toc": {
   "nav_menu": {},
   "number_sections": true,
   "sideBar": true,
   "skip_h1_title": false,
   "toc_cell": false,
   "toc_position": {},
   "toc_section_display": "block",
   "toc_window_display": false
  }
 },
 "nbformat": 4,
 "nbformat_minor": 2
}
