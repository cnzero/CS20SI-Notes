{
 "cells": [
  {
   "cell_type": "code",
   "execution_count": 1,
   "metadata": {},
   "outputs": [
    {
     "name": "stdout",
     "output_type": "stream",
     "text": [
      "1.3.0\n"
     ]
    }
   ],
   "source": [
    "import tensorflow as tf\n",
    "print(tf.__version__)\n",
    "\n",
    "import numpy as np"
   ]
  },
  {
   "cell_type": "markdown",
   "metadata": {},
   "source": [
    "## `tf.argmax`\n",
    "return the index with the largest value across axes of a tensor.\n",
    "\n",
    "`axis=0`, comparison in columns, output a row vector\n",
    "\n",
    "`axis=1`, comparison in row,    output a column vector"
   ]
  },
  {
   "cell_type": "code",
   "execution_count": 16,
   "metadata": {},
   "outputs": [
    {
     "name": "stdout",
     "output_type": "stream",
     "text": [
      "[[  9.99664664e-01   3.35350138e-04   9.35448482e-14]\n",
      " [  9.11051233e-04   2.78692680e-10   9.99089003e-01]]\n",
      "[0 0 1]\n"
     ]
    }
   ],
   "source": [
    "logits = tf.constant([[31., 23., 1.],[18.,  3., 25.]], name='logits')\n",
    "predict = tf.nn.softmax(logits)\n",
    "arg = tf.argmax(predict, axis=0) \n",
    "\n",
    "with tf.Session() as sess:\n",
    "    print(sess.run(predict))\n",
    "    print(sess.run(arg))"
   ]
  },
  {
   "cell_type": "markdown",
   "metadata": {},
   "source": [
    "## `tf.equal`\n",
    "return the truth value of (x==y) element-wise\n",
    "\n",
    "如果在实际中常常也将False作为0、True作为1来处理，\n",
    "则需要使用`tf.cast`进行强制类型转换。\n",
    "因此能够求和或平均值。"
   ]
  },
  {
   "cell_type": "code",
   "execution_count": 23,
   "metadata": {},
   "outputs": [
    {
     "name": "stdout",
     "output_type": "stream",
     "text": [
      "[[False  True  True]]\n"
     ]
    }
   ],
   "source": [
    "a = tf.constant([[1, 2, 3]])\n",
    "b = tf.constant([[0, 2, 3]])\n",
    "with tf.Session() as sess:\n",
    "    print(sess.run(tf.equal(a, b)))"
   ]
  },
  {
   "cell_type": "markdown",
   "metadata": {},
   "source": [
    "## `tf.reduce_sum`"
   ]
  },
  {
   "cell_type": "code",
   "execution_count": 28,
   "metadata": {},
   "outputs": [
    {
     "name": "stdout",
     "output_type": "stream",
     "text": [
      "10.0\n",
      "2.5\n"
     ]
    }
   ],
   "source": [
    "with tf.Session() as sess:\n",
    "    print(sess.run(tf.reduce_sum([1.,2.,3.,4.])) )\n",
    "    print(sess.run(tf.reduce_mean([1.,2.,3.,4.])) )"
   ]
  },
  {
   "cell_type": "markdown",
   "metadata": {},
   "source": [
    "## 体会\n",
    "说实话，现在仅仅会套用一些现有的程序，进行仿照着去写；\n",
    "\n",
    "但是没关系，千万别气馁。\n",
    "\n",
    "遇到不懂的函数，尽量先去读官方的API文档——这里面会有很多开发文档约定成俗的表达方式，尽早熟悉；\n",
    "\n",
    "看不懂也没关系，那就运行程序慢慢trail and error；然后再反过来API文档中表达与理解；\n",
    "\n",
    "尽早熟悉通过阅读API文档明白许多基础的、重要的、关键的功能。"
   ]
  }
 ],
 "metadata": {
  "kernelspec": {
   "display_name": "Python [default]",
   "language": "python",
   "name": "python3"
  },
  "language_info": {
   "codemirror_mode": {
    "name": "ipython",
    "version": 3
   },
   "file_extension": ".py",
   "mimetype": "text/x-python",
   "name": "python",
   "nbconvert_exporter": "python",
   "pygments_lexer": "ipython3",
   "version": "3.5.3"
  },
  "toc": {
   "nav_menu": {},
   "number_sections": true,
   "sideBar": true,
   "skip_h1_title": false,
   "toc_cell": false,
   "toc_position": {},
   "toc_section_display": "block",
   "toc_window_display": false
  }
 },
 "nbformat": 4,
 "nbformat_minor": 2
}
