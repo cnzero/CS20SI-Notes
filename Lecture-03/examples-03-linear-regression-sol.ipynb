{
 "cells": [
  {
   "cell_type": "code",
   "execution_count": 2,
   "metadata": {},
   "outputs": [],
   "source": [
    "import os\n",
    "os.environ['TF_CPP_MIN_LOG_LEVEL']='2'\n",
    "\n",
    "import numpy as np\n",
    "import matplotlib.pyplot as plt\n",
    "import tensorflow as tf\n",
    "import xlrd # read date from Microsoft Excell files. \n",
    "\n",
    "# import utils\n",
    "\n",
    "DATA_FILE = 'fire_theft.xls'\n",
    "# Two columns\n",
    "# X, Y\n",
    "# 42x2\n",
    "\n",
    "# Step 1: read in data from the .xls file\n",
    "book = xlrd.open_workbook(DATA_FILE, encoding_override=\"utf-8\")\n",
    "sheet = book.sheet_by_index(0)\n",
    "data = np.asarray([sheet.row_values(i) for i in range(1, sheet.nrows)])\n",
    "n_samples = sheet.nrows - 1"
   ]
  },
  {
   "cell_type": "code",
   "execution_count": 3,
   "metadata": {
    "collapsed": true
   },
   "outputs": [],
   "source": [
    "def huber_loss(labels, predictions, delta=1.0):\n",
    "    residual = tf.abs(predictions - labels)\n",
    "    def f1(): return 0.5 * tf.square(residual)\n",
    "    def f2(): return delta * residual - 0.5 * tf.square(delta)\n",
    "    return tf.cond(residual < delta, f1, f2)"
   ]
  },
  {
   "cell_type": "code",
   "execution_count": 4,
   "metadata": {},
   "outputs": [
    {
     "name": "stdout",
     "output_type": "stream",
     "text": [
      "Epoch 0: 2069.632077968724\n",
      "Epoch 1: 2117.0124027045676\n",
      "Epoch 2: 2092.302715009167\n",
      "Epoch 3: 2068.508299712269\n",
      "Epoch 4: 2045.59097691377\n",
      "Epoch 5: 2023.51466578529\n",
      "Epoch 6: 2002.2447984701112\n",
      "Epoch 7: 1981.7480356388148\n",
      "Epoch 8: 1961.9942731161912\n",
      "Epoch 9: 1942.9520601381857\n",
      "Epoch 10: 1924.5930879137345\n",
      "Epoch 11: 1906.8898473151382\n",
      "Epoch 12: 1889.8164801984317\n",
      "Epoch 13: 1873.347572792144\n",
      "Epoch 14: 1857.4589788810838\n",
      "Epoch 15: 1842.1277029727187\n",
      "Epoch 16: 1827.3322633700002\n",
      "Epoch 17: 1813.052086790048\n",
      "Epoch 18: 1799.2660774976082\n",
      "Epoch 19: 1785.9562136753016\n",
      "Epoch 20: 1773.1024838801738\n",
      "Epoch 21: 1760.6891868668124\n",
      "Epoch 22: 1748.6984040662203\n",
      "Epoch 23: 1737.1138700809595\n",
      "Epoch 24: 1725.9208882119883\n",
      "Epoch 25: 1715.1045996287653\n",
      "Epoch 26: 1704.6503852187864\n",
      "Epoch 27: 1694.5447281878164\n",
      "Epoch 28: 1684.774640512564\n",
      "Epoch 29: 1675.3281234368194\n",
      "Epoch 30: 1666.1934701423827\n",
      "Epoch 31: 1657.35837137096\n",
      "Epoch 32: 1648.8119148027063\n",
      "Epoch 33: 1640.5438601484611\n",
      "Epoch 34: 1632.5446351634428\n",
      "Epoch 35: 1624.8040233693264\n",
      "Epoch 36: 1617.3129053646587\n",
      "Epoch 37: 1610.0624211200823\n",
      "Epoch 38: 1603.043352031282\n",
      "Epoch 39: 1596.2474155681473\n",
      "Epoch 40: 1589.6680405714683\n",
      "Epoch 41: 1583.2968201761444\n",
      "Epoch 42: 1577.1265113367922\n",
      "Epoch 43: 1571.1499505979675\n",
      "Epoch 44: 1565.3607776878137\n",
      "Epoch 45: 1559.752333032943\n",
      "Epoch 46: 1554.3182108093586\n",
      "Epoch 47: 1549.0529109246675\n",
      "Epoch 48: 1543.950294389966\n",
      "Epoch 49: 1539.0052030345514\n"
     ]
    },
    {
     "data": {
      "image/png": "[encoded data removed]",
      "text/plain": [
       "<matplotlib.figure.Figure at 0x7fd798027a58>"
      ]
     },
     "metadata": {},
     "output_type": "display_data"
    }
   ],
   "source": [
    "# Step 2: create placeholders for input X (number of fire) and label Y (number of theft)\n",
    "X = tf.placeholder(tf.float32, name='X')\n",
    "Y = tf.placeholder(tf.float32, name='Y')\n",
    "\n",
    "# Step 3: create weight and bias, initialized to 0\n",
    "w = tf.Variable(0.0, name='weights')\n",
    "b = tf.Variable(0.0, name='bias')\n",
    "\n",
    "# Step 4: build model to predict Y\n",
    "Y_predicted = X * w + b \n",
    "\n",
    "# Step 5: use the square error as the loss function\n",
    "loss = tf.square(Y - Y_predicted, name='loss')\n",
    "# loss = utils.huber_loss(Y, Y_predicted)\n",
    "\n",
    "# Step 6: using gradient descent with learning rate of 0.01 to minimize loss\n",
    "optimizer = tf.train.GradientDescentOptimizer(learning_rate=0.001).minimize(loss)\n",
    "\n",
    "with tf.Session() as sess:\n",
    "\t# Step 7: initialize the necessary variables, in this case, w and b\n",
    "\tsess.run(tf.global_variables_initializer()) \n",
    "\t\n",
    "\twriter = tf.summary.FileWriter('./graphs/linear_reg', sess.graph)\n",
    "\t\n",
    "\t# Step 8: train the model\n",
    "\tfor i in range(50): # train the model 100 epochs\n",
    "\t\ttotal_loss = 0\n",
    "\t\tfor x, y in data:\n",
    "\t\t\t# Session runs train_op and fetch values of loss\n",
    "\t\t\t_, l = sess.run([optimizer, loss], feed_dict={X: x, Y:y}) \n",
    "\t\t\ttotal_loss += l\n",
    "\t\tprint('Epoch {0}: {1}'.format(i, total_loss/n_samples))\n",
    "\n",
    "\t# close the writer when you're done using it\n",
    "\twriter.close() \n",
    "\t\n",
    "\t# Step 9: output the values of w and b\n",
    "\tw, b = sess.run([w, b]) \n",
    "\n",
    "# plot the results\n",
    "X, Y = data.T[0], data.T[1]\n",
    "plt.plot(X, Y, 'bo', label='Real data')\n",
    "plt.plot(X, X * w + b, 'r', label='Predicted data')\n",
    "plt.legend()\n",
    "plt.show()"
   ]
  }
 ],
 "metadata": {
  "kernelspec": {
   "display_name": "Python [default]",
   "language": "python",
   "name": "python3"
  },
  "language_info": {
   "codemirror_mode": {
    "name": "ipython",
    "version": 3
   },
   "file_extension": ".py",
   "mimetype": "text/x-python",
   "name": "python",
   "nbconvert_exporter": "python",
   "pygments_lexer": "ipython3",
   "version": "3.5.3"
  },
  "toc": {
   "nav_menu": {},
   "number_sections": true,
   "sideBar": true,
   "skip_h1_title": false,
   "toc_cell": false,
   "toc_position": {},
   "toc_section_display": "block",
   "toc_window_display": false
  }
 },
 "nbformat": 4,
 "nbformat_minor": 2
}
