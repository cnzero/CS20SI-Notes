{
 "cells": [
  {
   "cell_type": "markdown",
   "metadata": {},
   "source": [
    "# CNN + Neural Style Transfer\n",
    "\n",
    "__Outline__:\n",
    "- CNN\n",
    "    - Convolution\n",
    "    - Pooling\n",
    "    - Feature Visualization\n",
    "- Neural Style Transfer\n",
    "    - Feature Inversion\n",
    "    - Texture Synthesis\n",
    "    - Style Transfer"
   ]
  },
  {
   "cell_type": "markdown",
   "metadata": {},
   "source": [
    "## Deep Learning with Images 深度学习在图像方面的应用\n",
    "- Object Detection = what and where\n",
    "- Object segmentation\n",
    "- Pose Estimation\n",
    "- Image Captioning 图片标注\n",
    "- Dense Image Captioning\n",
    "- Visual Question Answering\n",
    "- Image Super-resolution\n",
    "- Generating Art"
   ]
  },
  {
   "cell_type": "markdown",
   "metadata": {},
   "source": [
    "## Categories of Neural Network\n",
    "- Fully-connected NN\n",
    "- Convolution NN"
   ]
  },
  {
   "cell_type": "markdown",
   "metadata": {},
   "source": [
    "## How does Convolution Layer work?\n",
    "![](ConvolutionLayer.JPG)"
   ]
  },
  {
   "cell_type": "markdown",
   "metadata": {},
   "source": [
    "Filter 作为一个`5x5x3`的立方体，与数据集进行重叠结算，得到一个数据点；然后同理进行横向与纵向平移一个单位，进行同样的重叠计算；最终得到了`28x28x1`的数据集"
   ]
  },
  {
   "cell_type": "markdown",
   "metadata": {},
   "source": [
    "![](MaxPooling.JPG)"
   ]
  },
  {
   "cell_type": "markdown",
   "metadata": {},
   "source": [
    "## Visualizing ConvNet Features\n",
    "- Visualizing CNN features: Look at filters\n",
    "- Many networks learn similar filter"
   ]
  },
  {
   "cell_type": "markdown",
   "metadata": {},
   "source": [
    "## Neural Style Transfer\n",
    "\n",
    "### Feature Inversion\n",
    "Given a feature vector for an image, find a new image such that:\n",
    "- Its features are similar to the given features\n",
    "- It looks natural, (image prior regularization)\n",
    "\n",
    "### Texture Synthesis\n",
    "Given a sample patch of some texture, can we generate a bigger image of the same texture?\n",
    "\n",
    "### Neural Style Transfer\n",
    "Given a content image and a style image, find a new image that:\n",
    "- Matches the CNN features of the content image (feature reconstruction)\n",
    "- Matches the Gram matrics of the style image (texture synthesis)"
   ]
  }
 ],
 "metadata": {
  "kernelspec": {
   "display_name": "Python [default]",
   "language": "python",
   "name": "python3"
  },
  "language_info": {
   "codemirror_mode": {
    "name": "ipython",
    "version": 3
   },
   "file_extension": ".py",
   "mimetype": "text/x-python",
   "name": "python",
   "nbconvert_exporter": "python",
   "pygments_lexer": "ipython3",
   "version": "3.5.3"
  },
  "toc": {
   "nav_menu": {},
   "number_sections": true,
   "sideBar": true,
   "skip_h1_title": false,
   "toc_cell": false,
   "toc_position": {},
   "toc_section_display": "block",
   "toc_window_display": false
  }
 },
 "nbformat": 4,
 "nbformat_minor": 2
}
